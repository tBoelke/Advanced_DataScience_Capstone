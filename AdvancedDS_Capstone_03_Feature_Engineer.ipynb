{
    "nbformat_minor": 1, 
    "cells": [
        {
            "source": "# 3. Feature Engineering #\n## 3.1 Import libraries and load the data from previous step##", 
            "cell_type": "markdown", 
            "metadata": {
                "collapsed": true
            }
        }, 
        {
            "execution_count": 2, 
            "cell_type": "code", 
            "metadata": {}, 
            "outputs": [
                {
                    "output_type": "stream", 
                    "name": "stdout", 
                    "text": "<class 'pandas.core.frame.DataFrame'>\nRangeIndex: 150 entries, 0 to 149\nData columns (total 5 columns):\nFeature_1    150 non-null float64\nFeature_2    150 non-null float64\nFeature_3    150 non-null float64\nFeature_4    150 non-null float64\nLabel        150 non-null object\ndtypes: float64(4), object(1)\nmemory usage: 5.9+ KB\n"
                }
            ], 
            "source": "import pandas as pd\nimport numpy as np\n# df = pd.read_csv('\\Coursera\\Advanced_DS_Capstone_02.csv', index_col=[0])\ndf = pd.read_csv('https://archive.ics.uci.edu/ml/machine-learning-databases/iris/iris.data', header = None)\ndf.columns = [\"Feature_1\", \"Feature_2\", \"Feature_3\", \"Feature_4\", \"Label\"]\ndf.info()"
        }, 
        {
            "source": "## 3.2 Construction of Pipeline modules ##\n### 3.2.1 Construction of Indexer ###", 
            "cell_type": "markdown", 
            "metadata": {}
        }, 
        {
            "execution_count": 3, 
            "cell_type": "code", 
            "metadata": {}, 
            "outputs": [
                {
                    "output_type": "stream", 
                    "name": "stdout", 
                    "text": "+---------+---------+---------+---------+-----------+----------+\n|Feature_1|Feature_2|Feature_3|Feature_4|      Label|LabelIndex|\n+---------+---------+---------+---------+-----------+----------+\n|      5.1|      3.5|      1.4|      0.2|Iris-setosa|       2.0|\n|      4.9|      3.0|      1.4|      0.2|Iris-setosa|       2.0|\n|      4.7|      3.2|      1.3|      0.2|Iris-setosa|       2.0|\n|      4.6|      3.1|      1.5|      0.2|Iris-setosa|       2.0|\n|      5.0|      3.6|      1.4|      0.2|Iris-setosa|       2.0|\n|      5.4|      3.9|      1.7|      0.4|Iris-setosa|       2.0|\n|      4.6|      3.4|      1.4|      0.3|Iris-setosa|       2.0|\n|      5.0|      3.4|      1.5|      0.2|Iris-setosa|       2.0|\n|      4.4|      2.9|      1.4|      0.2|Iris-setosa|       2.0|\n|      4.9|      3.1|      1.5|      0.1|Iris-setosa|       2.0|\n|      5.4|      3.7|      1.5|      0.2|Iris-setosa|       2.0|\n|      4.8|      3.4|      1.6|      0.2|Iris-setosa|       2.0|\n|      4.8|      3.0|      1.4|      0.1|Iris-setosa|       2.0|\n|      4.3|      3.0|      1.1|      0.1|Iris-setosa|       2.0|\n|      5.8|      4.0|      1.2|      0.2|Iris-setosa|       2.0|\n|      5.7|      4.4|      1.5|      0.4|Iris-setosa|       2.0|\n|      5.4|      3.9|      1.3|      0.4|Iris-setosa|       2.0|\n|      5.1|      3.5|      1.4|      0.3|Iris-setosa|       2.0|\n|      5.7|      3.8|      1.7|      0.3|Iris-setosa|       2.0|\n|      5.1|      3.8|      1.5|      0.3|Iris-setosa|       2.0|\n+---------+---------+---------+---------+-----------+----------+\nonly showing top 20 rows\n\n+----------+\n|LabelIndex|\n+----------+\n|       0.0|\n|       1.0|\n|       2.0|\n+----------+\n\n"
                }
            ], 
            "source": "from pyspark.ml.feature import StringIndexer\n\nspark_df = sqlContext.createDataFrame(df)\nindexer = StringIndexer(inputCol=\"Label\", outputCol=\"LabelIndex\")\nindexed = indexer.fit(spark_df).transform(spark_df)\nindexed.show()\nindexed.select('LabelIndex').distinct().show()"
        }, 
        {
            "source": "### 3.2.2 Construction of OneHotEncoder ###", 
            "cell_type": "markdown", 
            "metadata": {}
        }, 
        {
            "execution_count": 4, 
            "cell_type": "code", 
            "metadata": {}, 
            "outputs": [
                {
                    "output_type": "stream", 
                    "name": "stdout", 
                    "text": "+---------+---------+---------+---------+-----------+----------+---------+\n|Feature_1|Feature_2|Feature_3|Feature_4|      Label|LabelIndex| LabelVec|\n+---------+---------+---------+---------+-----------+----------+---------+\n|      5.1|      3.5|      1.4|      0.2|Iris-setosa|       2.0|(2,[],[])|\n|      4.9|      3.0|      1.4|      0.2|Iris-setosa|       2.0|(2,[],[])|\n|      4.7|      3.2|      1.3|      0.2|Iris-setosa|       2.0|(2,[],[])|\n|      4.6|      3.1|      1.5|      0.2|Iris-setosa|       2.0|(2,[],[])|\n|      5.0|      3.6|      1.4|      0.2|Iris-setosa|       2.0|(2,[],[])|\n|      5.4|      3.9|      1.7|      0.4|Iris-setosa|       2.0|(2,[],[])|\n|      4.6|      3.4|      1.4|      0.3|Iris-setosa|       2.0|(2,[],[])|\n|      5.0|      3.4|      1.5|      0.2|Iris-setosa|       2.0|(2,[],[])|\n|      4.4|      2.9|      1.4|      0.2|Iris-setosa|       2.0|(2,[],[])|\n|      4.9|      3.1|      1.5|      0.1|Iris-setosa|       2.0|(2,[],[])|\n|      5.4|      3.7|      1.5|      0.2|Iris-setosa|       2.0|(2,[],[])|\n|      4.8|      3.4|      1.6|      0.2|Iris-setosa|       2.0|(2,[],[])|\n|      4.8|      3.0|      1.4|      0.1|Iris-setosa|       2.0|(2,[],[])|\n|      4.3|      3.0|      1.1|      0.1|Iris-setosa|       2.0|(2,[],[])|\n|      5.8|      4.0|      1.2|      0.2|Iris-setosa|       2.0|(2,[],[])|\n|      5.7|      4.4|      1.5|      0.4|Iris-setosa|       2.0|(2,[],[])|\n|      5.4|      3.9|      1.3|      0.4|Iris-setosa|       2.0|(2,[],[])|\n|      5.1|      3.5|      1.4|      0.3|Iris-setosa|       2.0|(2,[],[])|\n|      5.7|      3.8|      1.7|      0.3|Iris-setosa|       2.0|(2,[],[])|\n|      5.1|      3.8|      1.5|      0.3|Iris-setosa|       2.0|(2,[],[])|\n+---------+---------+---------+---------+-----------+----------+---------+\nonly showing top 20 rows\n\n+-------------+\n|     LabelVec|\n+-------------+\n|(2,[0],[1.0])|\n|(2,[1],[1.0])|\n|    (2,[],[])|\n+-------------+\n\n"
                }
            ], 
            "source": "from pyspark.ml.feature import OneHotEncoderEstimator\n\nencoder = OneHotEncoderEstimator(inputCols=[\"LabelIndex\"], outputCols=[\"LabelVec\"])\nmodel = encoder.fit(indexed)\nencoded = model.transform(indexed)\nencoded.show()\nencoded.select('LabelVec').distinct().show()"
        }, 
        {
            "source": "### 3.2.3 Construction of VectorAssembler ###", 
            "cell_type": "markdown", 
            "metadata": {}
        }, 
        {
            "execution_count": 5, 
            "cell_type": "code", 
            "metadata": {}, 
            "outputs": [
                {
                    "output_type": "stream", 
                    "name": "stdout", 
                    "text": "+---------+---------+---------+---------+-----------+----------+---------+-----------------+\n|Feature_1|Feature_2|Feature_3|Feature_4|      Label|LabelIndex| LabelVec|      FeaturesVec|\n+---------+---------+---------+---------+-----------+----------+---------+-----------------+\n|      5.1|      3.5|      1.4|      0.2|Iris-setosa|       2.0|(2,[],[])|[5.1,3.5,1.4,0.2]|\n|      4.9|      3.0|      1.4|      0.2|Iris-setosa|       2.0|(2,[],[])|[4.9,3.0,1.4,0.2]|\n|      4.7|      3.2|      1.3|      0.2|Iris-setosa|       2.0|(2,[],[])|[4.7,3.2,1.3,0.2]|\n|      4.6|      3.1|      1.5|      0.2|Iris-setosa|       2.0|(2,[],[])|[4.6,3.1,1.5,0.2]|\n|      5.0|      3.6|      1.4|      0.2|Iris-setosa|       2.0|(2,[],[])|[5.0,3.6,1.4,0.2]|\n|      5.4|      3.9|      1.7|      0.4|Iris-setosa|       2.0|(2,[],[])|[5.4,3.9,1.7,0.4]|\n|      4.6|      3.4|      1.4|      0.3|Iris-setosa|       2.0|(2,[],[])|[4.6,3.4,1.4,0.3]|\n|      5.0|      3.4|      1.5|      0.2|Iris-setosa|       2.0|(2,[],[])|[5.0,3.4,1.5,0.2]|\n|      4.4|      2.9|      1.4|      0.2|Iris-setosa|       2.0|(2,[],[])|[4.4,2.9,1.4,0.2]|\n|      4.9|      3.1|      1.5|      0.1|Iris-setosa|       2.0|(2,[],[])|[4.9,3.1,1.5,0.1]|\n|      5.4|      3.7|      1.5|      0.2|Iris-setosa|       2.0|(2,[],[])|[5.4,3.7,1.5,0.2]|\n|      4.8|      3.4|      1.6|      0.2|Iris-setosa|       2.0|(2,[],[])|[4.8,3.4,1.6,0.2]|\n|      4.8|      3.0|      1.4|      0.1|Iris-setosa|       2.0|(2,[],[])|[4.8,3.0,1.4,0.1]|\n|      4.3|      3.0|      1.1|      0.1|Iris-setosa|       2.0|(2,[],[])|[4.3,3.0,1.1,0.1]|\n|      5.8|      4.0|      1.2|      0.2|Iris-setosa|       2.0|(2,[],[])|[5.8,4.0,1.2,0.2]|\n|      5.7|      4.4|      1.5|      0.4|Iris-setosa|       2.0|(2,[],[])|[5.7,4.4,1.5,0.4]|\n|      5.4|      3.9|      1.3|      0.4|Iris-setosa|       2.0|(2,[],[])|[5.4,3.9,1.3,0.4]|\n|      5.1|      3.5|      1.4|      0.3|Iris-setosa|       2.0|(2,[],[])|[5.1,3.5,1.4,0.3]|\n|      5.7|      3.8|      1.7|      0.3|Iris-setosa|       2.0|(2,[],[])|[5.7,3.8,1.7,0.3]|\n|      5.1|      3.8|      1.5|      0.3|Iris-setosa|       2.0|(2,[],[])|[5.1,3.8,1.5,0.3]|\n+---------+---------+---------+---------+-----------+----------+---------+-----------------+\nonly showing top 20 rows\n\n"
                }
            ], 
            "source": "from pyspark.ml.linalg import Vectors\nfrom pyspark.ml.feature import VectorAssembler\n\nvectorAssembler = VectorAssembler(inputCols=[\"Feature_1\",\"Feature_2\",\"Feature_3\", \"Feature_4\"],\n                                  outputCol=\"FeaturesVec\")\nvectorized = vectorAssembler.transform(encoded)\nvectorized.show()"
        }, 
        {
            "source": "### 3.2.4 Construction of Normalizer ###", 
            "cell_type": "markdown", 
            "metadata": {}
        }, 
        {
            "execution_count": 6, 
            "cell_type": "code", 
            "metadata": {}, 
            "outputs": [
                {
                    "output_type": "stream", 
                    "name": "stdout", 
                    "text": "+---------+---------+---------+---------+-----------+----------+---------+-----------------+--------------------+\n|Feature_1|Feature_2|Feature_3|Feature_4|      Label|LabelIndex| LabelVec|      FeaturesVec|        FeaturesNorm|\n+---------+---------+---------+---------+-----------+----------+---------+-----------------+--------------------+\n|      5.1|      3.5|      1.4|      0.2|Iris-setosa|       2.0|(2,[],[])|[5.1,3.5,1.4,0.2]|[0.5,0.3431372549...|\n|      4.9|      3.0|      1.4|      0.2|Iris-setosa|       2.0|(2,[],[])|[4.9,3.0,1.4,0.2]|[0.51578947368421...|\n|      4.7|      3.2|      1.3|      0.2|Iris-setosa|       2.0|(2,[],[])|[4.7,3.2,1.3,0.2]|[0.5,0.3404255319...|\n|      4.6|      3.1|      1.5|      0.2|Iris-setosa|       2.0|(2,[],[])|[4.6,3.1,1.5,0.2]|[0.48936170212765...|\n|      5.0|      3.6|      1.4|      0.2|Iris-setosa|       2.0|(2,[],[])|[5.0,3.6,1.4,0.2]|[0.49019607843137...|\n|      5.4|      3.9|      1.7|      0.4|Iris-setosa|       2.0|(2,[],[])|[5.4,3.9,1.7,0.4]|[0.47368421052631...|\n|      4.6|      3.4|      1.4|      0.3|Iris-setosa|       2.0|(2,[],[])|[4.6,3.4,1.4,0.3]|[0.47422680412371...|\n|      5.0|      3.4|      1.5|      0.2|Iris-setosa|       2.0|(2,[],[])|[5.0,3.4,1.5,0.2]|[0.49504950495049...|\n|      4.4|      2.9|      1.4|      0.2|Iris-setosa|       2.0|(2,[],[])|[4.4,2.9,1.4,0.2]|[0.49438202247191...|\n|      4.9|      3.1|      1.5|      0.1|Iris-setosa|       2.0|(2,[],[])|[4.9,3.1,1.5,0.1]|[0.51041666666666...|\n|      5.4|      3.7|      1.5|      0.2|Iris-setosa|       2.0|(2,[],[])|[5.4,3.7,1.5,0.2]|[0.5,0.3425925925...|\n|      4.8|      3.4|      1.6|      0.2|Iris-setosa|       2.0|(2,[],[])|[4.8,3.4,1.6,0.2]|[0.48000000000000...|\n|      4.8|      3.0|      1.4|      0.1|Iris-setosa|       2.0|(2,[],[])|[4.8,3.0,1.4,0.1]|[0.51612903225806...|\n|      4.3|      3.0|      1.1|      0.1|Iris-setosa|       2.0|(2,[],[])|[4.3,3.0,1.1,0.1]|[0.50588235294117...|\n|      5.8|      4.0|      1.2|      0.2|Iris-setosa|       2.0|(2,[],[])|[5.8,4.0,1.2,0.2]|[0.51785714285714...|\n|      5.7|      4.4|      1.5|      0.4|Iris-setosa|       2.0|(2,[],[])|[5.7,4.4,1.5,0.4]|[0.47499999999999...|\n|      5.4|      3.9|      1.3|      0.4|Iris-setosa|       2.0|(2,[],[])|[5.4,3.9,1.3,0.4]|[0.49090909090909...|\n|      5.1|      3.5|      1.4|      0.3|Iris-setosa|       2.0|(2,[],[])|[5.1,3.5,1.4,0.3]|[0.49514563106796...|\n|      5.7|      3.8|      1.7|      0.3|Iris-setosa|       2.0|(2,[],[])|[5.7,3.8,1.7,0.3]|[0.49565217391304...|\n|      5.1|      3.8|      1.5|      0.3|Iris-setosa|       2.0|(2,[],[])|[5.1,3.8,1.5,0.3]|[0.47663551401869...|\n+---------+---------+---------+---------+-----------+----------+---------+-----------------+--------------------+\nonly showing top 20 rows\n\n"
                }
            ], 
            "source": "from pyspark.ml.feature import Normalizer\nfrom pyspark.ml.linalg import Vectors\n\nnormalizer = Normalizer(inputCol=\"FeaturesVec\", outputCol=\"FeaturesNorm\", p=1.0)\nnormalized = normalizer.transform(vectorized)\nnormalized.show()"
        }, 
        {
            "source": "## 3.3 Pipeline creation ##", 
            "cell_type": "markdown", 
            "metadata": {}
        }, 
        {
            "execution_count": 7, 
            "cell_type": "code", 
            "metadata": {}, 
            "outputs": [
                {
                    "output_type": "stream", 
                    "name": "stdout", 
                    "text": "+---------+---------+---------+---------+-----------+----------+---------+-----------------+--------------------+\n|Feature_1|Feature_2|Feature_3|Feature_4|      Label|LabelIndex| LabelVec|      FeaturesVec|        FeaturesNorm|\n+---------+---------+---------+---------+-----------+----------+---------+-----------------+--------------------+\n|      5.1|      3.5|      1.4|      0.2|Iris-setosa|       2.0|(2,[],[])|[5.1,3.5,1.4,0.2]|[0.5,0.3431372549...|\n|      4.9|      3.0|      1.4|      0.2|Iris-setosa|       2.0|(2,[],[])|[4.9,3.0,1.4,0.2]|[0.51578947368421...|\n|      4.7|      3.2|      1.3|      0.2|Iris-setosa|       2.0|(2,[],[])|[4.7,3.2,1.3,0.2]|[0.5,0.3404255319...|\n|      4.6|      3.1|      1.5|      0.2|Iris-setosa|       2.0|(2,[],[])|[4.6,3.1,1.5,0.2]|[0.48936170212765...|\n|      5.0|      3.6|      1.4|      0.2|Iris-setosa|       2.0|(2,[],[])|[5.0,3.6,1.4,0.2]|[0.49019607843137...|\n|      5.4|      3.9|      1.7|      0.4|Iris-setosa|       2.0|(2,[],[])|[5.4,3.9,1.7,0.4]|[0.47368421052631...|\n|      4.6|      3.4|      1.4|      0.3|Iris-setosa|       2.0|(2,[],[])|[4.6,3.4,1.4,0.3]|[0.47422680412371...|\n|      5.0|      3.4|      1.5|      0.2|Iris-setosa|       2.0|(2,[],[])|[5.0,3.4,1.5,0.2]|[0.49504950495049...|\n|      4.4|      2.9|      1.4|      0.2|Iris-setosa|       2.0|(2,[],[])|[4.4,2.9,1.4,0.2]|[0.49438202247191...|\n|      4.9|      3.1|      1.5|      0.1|Iris-setosa|       2.0|(2,[],[])|[4.9,3.1,1.5,0.1]|[0.51041666666666...|\n|      5.4|      3.7|      1.5|      0.2|Iris-setosa|       2.0|(2,[],[])|[5.4,3.7,1.5,0.2]|[0.5,0.3425925925...|\n|      4.8|      3.4|      1.6|      0.2|Iris-setosa|       2.0|(2,[],[])|[4.8,3.4,1.6,0.2]|[0.48000000000000...|\n|      4.8|      3.0|      1.4|      0.1|Iris-setosa|       2.0|(2,[],[])|[4.8,3.0,1.4,0.1]|[0.51612903225806...|\n|      4.3|      3.0|      1.1|      0.1|Iris-setosa|       2.0|(2,[],[])|[4.3,3.0,1.1,0.1]|[0.50588235294117...|\n|      5.8|      4.0|      1.2|      0.2|Iris-setosa|       2.0|(2,[],[])|[5.8,4.0,1.2,0.2]|[0.51785714285714...|\n|      5.7|      4.4|      1.5|      0.4|Iris-setosa|       2.0|(2,[],[])|[5.7,4.4,1.5,0.4]|[0.47499999999999...|\n|      5.4|      3.9|      1.3|      0.4|Iris-setosa|       2.0|(2,[],[])|[5.4,3.9,1.3,0.4]|[0.49090909090909...|\n|      5.1|      3.5|      1.4|      0.3|Iris-setosa|       2.0|(2,[],[])|[5.1,3.5,1.4,0.3]|[0.49514563106796...|\n|      5.7|      3.8|      1.7|      0.3|Iris-setosa|       2.0|(2,[],[])|[5.7,3.8,1.7,0.3]|[0.49565217391304...|\n|      5.1|      3.8|      1.5|      0.3|Iris-setosa|       2.0|(2,[],[])|[5.1,3.8,1.5,0.3]|[0.47663551401869...|\n+---------+---------+---------+---------+-----------+----------+---------+-----------------+--------------------+\nonly showing top 20 rows\n\n"
                }
            ], 
            "source": "from pyspark.ml import Pipeline\npipeline = Pipeline(stages=[indexer, encoder, vectorAssembler, normalizer])\nmodel = pipeline.fit(spark_df)\nprediction = model.transform(spark_df)\nprediction.show()"
        }, 
        {
            "source": "## 3.4 Summary ##\n**Finally we now have a pipeline which results a normalized Featuresvector and an OneHotEncoded Vector of the Labels** ", 
            "cell_type": "markdown", 
            "metadata": {}
        }, 
        {
            "execution_count": null, 
            "cell_type": "code", 
            "metadata": {}, 
            "outputs": [], 
            "source": ""
        }
    ], 
    "metadata": {
        "kernelspec": {
            "display_name": "Python 3.6 with Spark", 
            "name": "python36", 
            "language": "python3"
        }, 
        "language_info": {
            "mimetype": "text/x-python", 
            "nbconvert_exporter": "python", 
            "version": "3.6.8", 
            "name": "python", 
            "file_extension": ".py", 
            "pygments_lexer": "ipython3", 
            "codemirror_mode": {
                "version": 3, 
                "name": "ipython"
            }
        }
    }, 
    "nbformat": 4
}